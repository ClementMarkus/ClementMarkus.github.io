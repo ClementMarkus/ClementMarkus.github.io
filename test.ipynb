{
 "cells": [
  {
   "cell_type": "code",
   "execution_count": 119,
   "metadata": {},
   "outputs": [],
   "source": [
    "from graphs import *\n",
    "from arch import arch_model\n",
    "from scipy.stats import mstats\n",
    "from datetime import datetime as dt\n",
    "import numpy as np\n",
    "import plotly.graph_objs as go\n",
    "import plotly.subplots as sp"
   ]
  },
  {
   "cell_type": "code",
   "execution_count": 120,
   "metadata": {},
   "outputs": [],
   "source": [
    "config = {\n",
    "  'toImageButtonOptions': {\n",
    "    'format': 'png', # one of png, svg, jpeg, webp\n",
    "    'filename': 'custom_image',\n",
    "    'height': 600,\n",
    "    'width': 800,\n",
    "    'scale': 7  }} # Multiply title/legend/axis/canvas sizes by this factor"
   ]
  },
  {
   "cell_type": "code",
   "execution_count": 121,
   "metadata": {},
   "outputs": [],
   "source": [
    "unrate_usa()\n",
    "cpi_usa()\n",
    "fedfunds_usa()\n",
    "vix()\n",
    "spreads_usa()\n",
    "savings_usa()\n",
    "sp_tsx()\n",
    "sp_500()\n",
    "msci_china()"
   ]
  },
  {
   "cell_type": "code",
   "execution_count": 122,
   "metadata": {},
   "outputs": [],
   "source": [
    "sp_tsx()"
   ]
  },
  {
   "cell_type": "code",
   "execution_count": 123,
   "metadata": {},
   "outputs": [],
   "source": [
    "def forecast_volatility(df:pd.DataFrame,winsorize_limits:float,window_size=1000)->pd.Series:\n",
    "    \"\"\"\n",
    "    Function\n",
    "    ---------- \n",
    "    Calculate the daily forecasted volatilty with a GARCH(1,1) model\n",
    "    \n",
    "    Parameters\n",
    "    ----------\n",
    "    df : a DataFrame of the daily return of the index\n",
    "    winsorize_limits : the limits of the winsorization ex: [0.05,0.05]\n",
    "    test_size : the size of the test set. The rest will be train set ex: 0.5\n",
    "    \n",
    "    Returns\n",
    "    ------\n",
    "    Returns a Series of the forecasted volatility\n",
    "    \"\"\"\n",
    "    returns = df.loc[:,df.columns[0]].values*100\n",
    "    winsorized_returns = mstats.winsorize(returns, limits = winsorize_limits)\n",
    "    \n",
    "    window_size = window_size\n",
    "    forecasts_std = []\n",
    "    for i in range(window_size, len(returns)):\n",
    "        window = winsorized_returns[i-window_size:i]\n",
    "        model = arch_model(window, vol = 'GARCH', p = 1, q = 1).fit(disp='off')\n",
    "        forecast = model.forecast(horizon = 1,reindex = False)\n",
    "        forecasts_std.append(np.sqrt(forecast.variance.values[-1,-1]))\n",
    "    forecasts_std = pd.DataFrame(forecasts_std, index = df.index[window_size:])\n",
    "    forecasts_std.index.name = 'Date'\n",
    "    \n",
    "    return forecasts_std"
   ]
  },
  {
   "cell_type": "code",
   "execution_count": 124,
   "metadata": {},
   "outputs": [],
   "source": [
    "df_prix = yf.download('MCHI', '2000-01-01' , dt.today(),progress=False)\n",
    "df_prix = df_prix[['Adj Close']] \n",
    "df_prix = df_prix.rename(columns={'Adj Close': 'MCHI'})\n",
    "df = df_prix.pct_change().dropna() \n"
   ]
  },
  {
   "cell_type": "code",
   "execution_count": 125,
   "metadata": {},
   "outputs": [
    {
     "data": {
      "text/html": [
       "<div>\n",
       "<style scoped>\n",
       "    .dataframe tbody tr th:only-of-type {\n",
       "        vertical-align: middle;\n",
       "    }\n",
       "\n",
       "    .dataframe tbody tr th {\n",
       "        vertical-align: top;\n",
       "    }\n",
       "\n",
       "    .dataframe thead th {\n",
       "        text-align: right;\n",
       "    }\n",
       "</style>\n",
       "<table border=\"1\" class=\"dataframe\">\n",
       "  <thead>\n",
       "    <tr style=\"text-align: right;\">\n",
       "      <th></th>\n",
       "      <th>0</th>\n",
       "    </tr>\n",
       "    <tr>\n",
       "      <th>Date</th>\n",
       "      <th></th>\n",
       "    </tr>\n",
       "  </thead>\n",
       "  <tbody>\n",
       "    <tr>\n",
       "      <th>2015-03-25</th>\n",
       "      <td>1.113338</td>\n",
       "    </tr>\n",
       "    <tr>\n",
       "      <th>2015-03-26</th>\n",
       "      <td>1.119840</td>\n",
       "    </tr>\n",
       "    <tr>\n",
       "      <th>2015-03-27</th>\n",
       "      <td>1.099763</td>\n",
       "    </tr>\n",
       "    <tr>\n",
       "      <th>2015-03-30</th>\n",
       "      <td>1.117412</td>\n",
       "    </tr>\n",
       "    <tr>\n",
       "      <th>2015-03-31</th>\n",
       "      <td>1.202442</td>\n",
       "    </tr>\n",
       "    <tr>\n",
       "      <th>...</th>\n",
       "      <td>...</td>\n",
       "    </tr>\n",
       "    <tr>\n",
       "      <th>2023-09-18</th>\n",
       "      <td>1.415347</td>\n",
       "    </tr>\n",
       "    <tr>\n",
       "      <th>2023-09-19</th>\n",
       "      <td>1.383603</td>\n",
       "    </tr>\n",
       "    <tr>\n",
       "      <th>2023-09-20</th>\n",
       "      <td>1.367113</td>\n",
       "    </tr>\n",
       "    <tr>\n",
       "      <th>2023-09-21</th>\n",
       "      <td>1.347559</td>\n",
       "    </tr>\n",
       "    <tr>\n",
       "      <th>2023-09-22</th>\n",
       "      <td>1.382714</td>\n",
       "    </tr>\n",
       "  </tbody>\n",
       "</table>\n",
       "<p>2140 rows × 1 columns</p>\n",
       "</div>"
      ],
      "text/plain": [
       "                   0\n",
       "Date                \n",
       "2015-03-25  1.113338\n",
       "2015-03-26  1.119840\n",
       "2015-03-27  1.099763\n",
       "2015-03-30  1.117412\n",
       "2015-03-31  1.202442\n",
       "...              ...\n",
       "2023-09-18  1.415347\n",
       "2023-09-19  1.383603\n",
       "2023-09-20  1.367113\n",
       "2023-09-21  1.347559\n",
       "2023-09-22  1.382714\n",
       "\n",
       "[2140 rows x 1 columns]"
      ]
     },
     "execution_count": 125,
     "metadata": {},
     "output_type": "execute_result"
    }
   ],
   "source": [
    "forecast_vol_china=forecast_volatility(df, [0.05,0.05], window_size=1000)\n",
    "forecast_vol_china"
   ]
  },
  {
   "cell_type": "code",
   "execution_count": 126,
   "metadata": {},
   "outputs": [],
   "source": [
    "df_prix = df_prix.iloc[1001:]\n",
    "fig = sp.make_subplots(rows=2, cols=1, shared_xaxes=True, vertical_spacing=0.1, row_heights=[0.7, 0.3])\n",
    "\n",
    "returns_trace = go.Scatter(x=df_prix.index, y=df_prix.iloc[:,0],line_color='#00334E', name='Prix')\n",
    "fig.add_trace(returns_trace, row=1, col=1)\n",
    "\n",
    "volatility_trace = go.Scatter(x=forecast_vol_china.index, y=forecast_vol_china.iloc[:,0],line_color='#ED1C26', name='Volatilité prévue')\n",
    "fig.add_trace(volatility_trace, row=2, col=1)\n",
    "\n",
    "# Set axis labels and titles\n",
    "fig.update_xaxes(title_text=\"Date\",row=2, col=1)\n",
    "fig.update_yaxes(title_text=\"Prix\", row=1, col=1)\n",
    "fig.update_yaxes(title_text=\"Volatilité prévue\", row=2, col=1)\n",
    "\n",
    "# Configure layout\n",
    "fig.update_layout(title={'text': \"Prix de l'actif vs volatilité prévue\",'x': 0.5,'xanchor': 'center'},template=\"simple_white\",showlegend=False)\n",
    "\n",
    "quintiles = np.percentile(forecast_vol_china.iloc[:, 0], [20, 80])\n",
    "for q in quintiles:\n",
    "    fig.add_trace(go.Scatter(x=[forecast_vol_china.index.min(),forecast_vol_china.index.max()], y=[q,q],line_color='grey',mode='lines',line_dash='dash'),row=2, col=1)\n",
    "\n",
    "\n",
    "fig.write_html(\"graph/china_vol.html\",config=config)"
   ]
  },
  {
   "cell_type": "code",
   "execution_count": null,
   "metadata": {},
   "outputs": [],
   "source": []
  }
 ],
 "metadata": {
  "kernelspec": {
   "display_name": "Finance",
   "language": "python",
   "name": "python3"
  },
  "language_info": {
   "codemirror_mode": {
    "name": "ipython",
    "version": 3
   },
   "file_extension": ".py",
   "mimetype": "text/x-python",
   "name": "python",
   "nbconvert_exporter": "python",
   "pygments_lexer": "ipython3",
   "version": "3.9.16"
  },
  "orig_nbformat": 4
 },
 "nbformat": 4,
 "nbformat_minor": 2
}
