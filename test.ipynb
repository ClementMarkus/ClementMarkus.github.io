{
 "cells": [
  {
   "cell_type": "code",
   "execution_count": 1,
   "metadata": {},
   "outputs": [],
   "source": [
    "import pandas as pd \n",
    "import pandas_datareader.data as web \n",
    "import yfinance as yf\n",
    "from datetime import date as dt \n",
    "import plotly.graph_objs as go\n",
    "import matplotlib.pyplot as plt\n",
    "from dash import dash_table\n",
    "from plotly.subplots import make_subplots"
   ]
  },
  {
   "cell_type": "code",
   "execution_count": 2,
   "metadata": {},
   "outputs": [],
   "source": [
    "config = {\n",
    "  'toImageButtonOptions': {\n",
    "    'format': 'png', # one of png, svg, jpeg, webp\n",
    "    'filename': 'custom_image',\n",
    "    'height': 500,\n",
    "    'width': 700,\n",
    "    'scale': 7  }} # Multiply title/legend/axis/canvas sizes by this factor\n"
   ]
  },
  {
   "cell_type": "code",
   "execution_count": 3,
   "metadata": {},
   "outputs": [],
   "source": [
    "def unrate_usa(start_date='1990-01-01',end_date=dt.today()):\n",
    "    \"\"\"\n",
    "    Function\n",
    "    ---------- \n",
    "    Plot with plotly the unemployment rate in the us\n",
    "    https://fred.stlouisfed.org/series/UNRATE\n",
    "    \n",
    "    Parameters\n",
    "    ----------\n",
    "    start_date: start date of you're plot\n",
    "    end_date: end date of you're plot\n",
    "    \n",
    "    Returns\n",
    "    ------\n",
    "    plot the unemployment rate in US\n",
    "    \"\"\"\n",
    "    unrate=web.DataReader('UNRATE','fred', start=start_date, end=end_date)\n",
    "    non_cyclic=web.DataReader('NROU','fred', start=start_date, end=end_date)\n",
    "    fig=go.Figure()\n",
    "    fig.add_trace(go.Scatter(x=unrate.index, y=unrate[\"UNRATE\"], line_color='#00334E', name='Taux de chômage'))\n",
    "    fig.add_trace(go.Scatter(x=non_cyclic.index, y=non_cyclic[\"NROU\"], line_color='#ED1C26', name='taux de chômage non cyclique'))\n",
    "    fig.update_layout(title={'text': 'Taux de chômage','x': 0.5,'xanchor': 'center'}\n",
    "                      ,xaxis_title='Date',yaxis_title='Taux de chômage (%)',template=\"simple_white\",\n",
    "                      legend=dict(x=0, y=-0.2, orientation='h', bgcolor='rgba(255, 255, 255, 0)'))\n",
    "    fig.write_html(\"unemployement_rate_us.html\",config=config)"
   ]
  },
  {
   "cell_type": "code",
   "execution_count": 4,
   "metadata": {},
   "outputs": [],
   "source": [
    "unrate_usa()"
   ]
  },
  {
   "cell_type": "code",
   "execution_count": null,
   "metadata": {},
   "outputs": [],
   "source": []
  }
 ],
 "metadata": {
  "kernelspec": {
   "display_name": "Finance",
   "language": "python",
   "name": "python3"
  },
  "language_info": {
   "codemirror_mode": {
    "name": "ipython",
    "version": 3
   },
   "file_extension": ".py",
   "mimetype": "text/x-python",
   "name": "python",
   "nbconvert_exporter": "python",
   "pygments_lexer": "ipython3",
   "version": "3.9.16"
  },
  "orig_nbformat": 4
 },
 "nbformat": 4,
 "nbformat_minor": 2
}
