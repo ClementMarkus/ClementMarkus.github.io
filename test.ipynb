{
 "cells": [
  {
   "cell_type": "code",
   "execution_count": 1,
   "metadata": {},
   "outputs": [],
   "source": [
    "from graphs import *\n",
    "from arch import arch_model\n",
    "from scipy.stats import mstats\n",
    "from datetime import datetime as dt\n",
    "import numpy as np\n",
    "import plotly.graph_objs as go\n",
    "import plotly.subplots as sp\n",
    "from datetime import date as dt \n",
    "import pandas as pd\n",
    "\n",
    "file_path= r'C:\\Users\\Clement\\OneDrive\\Documents\\dashboard_data.xlsx'"
   ]
  },
  {
   "cell_type": "code",
   "execution_count": 2,
   "metadata": {},
   "outputs": [],
   "source": [
    "config = {\n",
    "  'toImageButtonOptions': {\n",
    "    'format': 'png', # one of png, svg, jpeg, webp\n",
    "    'filename': 'custom_image',\n",
    "    'height': 600,\n",
    "    'width': 800,\n",
    "    'scale': 7  }} # Multiply title/legend/axis/canvas sizes by this factor"
   ]
  },
  {
   "cell_type": "code",
   "execution_count": 40,
   "metadata": {},
   "outputs": [
    {
     "data": {
      "application/vnd.plotly.v1+json": {
       "config": {
        "plotlyServerURL": "https://plot.ly"
       },
       "data": [
        {
         "line": {
          "color": "#00334E"
         },
         "name": "Exports",
         "type": "scatter",
         "x": [
          "2000-01-31T00:00:00",
          "2000-02-29T00:00:00",
          "2000-03-31T00:00:00",
          "2000-04-30T00:00:00",
          "2000-05-31T00:00:00",
          "2000-06-30T00:00:00",
          "2000-07-31T00:00:00",
          "2000-08-31T00:00:00",
          "2000-09-30T00:00:00",
          "2000-10-31T00:00:00",
          "2000-11-30T00:00:00",
          "2000-12-31T00:00:00",
          "2001-01-31T00:00:00",
          "2001-02-28T00:00:00",
          "2001-03-31T00:00:00",
          "2001-04-30T00:00:00",
          "2001-05-31T00:00:00",
          "2001-06-30T00:00:00",
          "2001-07-31T00:00:00",
          "2001-08-31T00:00:00",
          "2001-09-30T00:00:00",
          "2001-10-31T00:00:00",
          "2001-11-30T00:00:00",
          "2001-12-31T00:00:00",
          "2002-01-31T00:00:00",
          "2002-02-28T00:00:00",
          "2002-03-31T00:00:00",
          "2002-04-30T00:00:00",
          "2002-05-31T00:00:00",
          "2002-06-30T00:00:00",
          "2002-07-31T00:00:00",
          "2002-08-31T00:00:00",
          "2002-09-30T00:00:00",
          "2002-10-31T00:00:00",
          "2002-11-30T00:00:00",
          "2002-12-31T00:00:00",
          "2003-01-31T00:00:00",
          "2003-02-28T00:00:00",
          "2003-03-31T00:00:00",
          "2003-04-30T00:00:00",
          "2003-05-31T00:00:00",
          "2003-06-30T00:00:00",
          "2003-07-31T00:00:00",
          "2003-08-31T00:00:00",
          "2003-09-30T00:00:00",
          "2003-10-31T00:00:00",
          "2003-11-30T00:00:00",
          "2003-12-31T00:00:00",
          "2004-01-31T00:00:00",
          "2004-02-29T00:00:00",
          "2004-03-31T00:00:00",
          "2004-04-30T00:00:00",
          "2004-05-31T00:00:00",
          "2004-06-30T00:00:00",
          "2004-07-31T00:00:00",
          "2004-08-31T00:00:00",
          "2004-09-30T00:00:00",
          "2004-10-31T00:00:00",
          "2004-11-30T00:00:00",
          "2004-12-31T00:00:00",
          "2005-01-31T00:00:00",
          "2005-02-28T00:00:00",
          "2005-03-31T00:00:00",
          "2005-04-30T00:00:00",
          "2005-05-31T00:00:00",
          "2005-06-30T00:00:00",
          "2005-07-31T00:00:00",
          "2005-08-31T00:00:00",
          "2005-09-30T00:00:00",
          "2005-10-31T00:00:00",
          "2005-11-30T00:00:00",
          "2005-12-31T00:00:00",
          "2006-01-31T00:00:00",
          "2006-02-28T00:00:00",
          "2006-03-31T00:00:00",
          "2006-04-30T00:00:00",
          "2006-05-31T00:00:00",
          "2006-06-30T00:00:00",
          "2006-07-31T00:00:00",
          "2006-08-31T00:00:00",
          "2006-09-30T00:00:00",
          "2006-10-31T00:00:00",
          "2006-11-30T00:00:00",
          "2006-12-31T00:00:00",
          "2007-01-31T00:00:00",
          "2007-02-28T00:00:00",
          "2007-03-31T00:00:00",
          "2007-04-30T00:00:00",
          "2007-05-31T00:00:00",
          "2007-06-30T00:00:00",
          "2007-07-31T00:00:00",
          "2007-08-31T00:00:00",
          "2007-09-30T00:00:00",
          "2007-10-31T00:00:00",
          "2007-11-30T00:00:00",
          "2007-12-31T00:00:00",
          "2008-01-31T00:00:00",
          "2008-02-29T00:00:00",
          "2008-03-31T00:00:00",
          "2008-04-30T00:00:00",
          "2008-05-31T00:00:00",
          "2008-06-30T00:00:00",
          "2008-07-31T00:00:00",
          "2008-08-31T00:00:00",
          "2008-09-30T00:00:00",
          "2008-10-31T00:00:00",
          "2008-11-30T00:00:00",
          "2008-12-31T00:00:00",
          "2009-01-31T00:00:00",
          "2009-02-28T00:00:00",
          "2009-03-31T00:00:00",
          "2009-04-30T00:00:00",
          "2009-05-31T00:00:00",
          "2009-06-30T00:00:00",
          "2009-07-31T00:00:00",
          "2009-08-31T00:00:00",
          "2009-09-30T00:00:00",
          "2009-10-31T00:00:00",
          "2009-11-30T00:00:00",
          "2009-12-31T00:00:00",
          "2010-01-31T00:00:00",
          "2010-02-28T00:00:00",
          "2010-03-31T00:00:00",
          "2010-04-30T00:00:00",
          "2010-05-31T00:00:00",
          "2010-06-30T00:00:00",
          "2010-07-31T00:00:00",
          "2010-08-31T00:00:00",
          "2010-09-30T00:00:00",
          "2010-10-31T00:00:00",
          "2010-11-30T00:00:00",
          "2010-12-31T00:00:00",
          "2011-01-31T00:00:00",
          "2011-02-28T00:00:00",
          "2011-03-31T00:00:00",
          "2011-04-30T00:00:00",
          "2011-05-31T00:00:00",
          "2011-06-30T00:00:00",
          "2011-07-31T00:00:00",
          "2011-08-31T00:00:00",
          "2011-09-30T00:00:00",
          "2011-10-31T00:00:00",
          "2011-11-30T00:00:00",
          "2011-12-31T00:00:00",
          "2012-01-31T00:00:00",
          "2012-02-29T00:00:00",
          "2012-03-31T00:00:00",
          "2012-04-30T00:00:00",
          "2012-05-31T00:00:00",
          "2012-06-30T00:00:00",
          "2012-07-31T00:00:00",
          "2012-08-31T00:00:00",
          "2012-09-30T00:00:00",
          "2012-10-31T00:00:00",
          "2012-11-30T00:00:00",
          "2012-12-31T00:00:00",
          "2013-01-31T00:00:00",
          "2013-02-28T00:00:00",
          "2013-03-31T00:00:00",
          "2013-04-30T00:00:00",
          "2013-05-31T00:00:00",
          "2013-06-30T00:00:00",
          "2013-07-31T00:00:00",
          "2013-08-31T00:00:00",
          "2013-09-30T00:00:00",
          "2013-10-31T00:00:00",
          "2013-11-30T00:00:00",
          "2013-12-31T00:00:00",
          "2014-01-31T00:00:00",
          "2014-02-28T00:00:00",
          "2014-03-31T00:00:00",
          "2014-04-30T00:00:00",
          "2014-05-31T00:00:00",
          "2014-06-30T00:00:00",
          "2014-07-31T00:00:00",
          "2014-08-31T00:00:00",
          "2014-09-30T00:00:00",
          "2014-10-31T00:00:00",
          "2014-11-30T00:00:00",
          "2014-12-31T00:00:00",
          "2015-01-31T00:00:00",
          "2015-02-28T00:00:00",
          "2015-03-31T00:00:00",
          "2015-04-30T00:00:00",
          "2015-05-31T00:00:00",
          "2015-06-30T00:00:00",
          "2015-07-31T00:00:00",
          "2015-08-31T00:00:00",
          "2015-09-30T00:00:00",
          "2015-10-31T00:00:00",
          "2015-11-30T00:00:00",
          "2015-12-31T00:00:00",
          "2016-01-31T00:00:00",
          "2016-02-29T00:00:00",
          "2016-03-31T00:00:00",
          "2016-04-30T00:00:00",
          "2016-05-31T00:00:00",
          "2016-06-30T00:00:00",
          "2016-07-31T00:00:00",
          "2016-08-31T00:00:00",
          "2016-09-30T00:00:00",
          "2016-10-31T00:00:00",
          "2016-11-30T00:00:00",
          "2016-12-31T00:00:00",
          "2017-01-31T00:00:00",
          "2017-02-28T00:00:00",
          "2017-03-31T00:00:00",
          "2017-04-30T00:00:00",
          "2017-05-31T00:00:00",
          "2017-06-30T00:00:00",
          "2017-07-31T00:00:00",
          "2017-08-31T00:00:00",
          "2017-09-30T00:00:00",
          "2017-10-31T00:00:00",
          "2017-11-30T00:00:00",
          "2017-12-31T00:00:00",
          "2018-01-31T00:00:00",
          "2018-02-28T00:00:00",
          "2018-03-31T00:00:00",
          "2018-04-30T00:00:00",
          "2018-05-31T00:00:00",
          "2018-06-30T00:00:00",
          "2018-07-31T00:00:00",
          "2018-08-31T00:00:00",
          "2018-09-30T00:00:00",
          "2018-10-31T00:00:00",
          "2018-11-30T00:00:00",
          "2018-12-31T00:00:00",
          "2019-01-31T00:00:00",
          "2019-02-28T00:00:00",
          "2019-03-31T00:00:00",
          "2019-04-30T00:00:00",
          "2019-05-31T00:00:00",
          "2019-06-30T00:00:00",
          "2019-07-31T00:00:00",
          "2019-08-31T00:00:00",
          "2019-09-30T00:00:00",
          "2019-10-31T00:00:00",
          "2019-11-30T00:00:00",
          "2019-12-31T00:00:00",
          "2020-01-31T00:00:00",
          "2020-02-29T00:00:00",
          "2020-03-31T00:00:00",
          "2020-04-30T00:00:00",
          "2020-05-31T00:00:00",
          "2020-06-30T00:00:00",
          "2020-07-31T00:00:00",
          "2020-08-31T00:00:00",
          "2020-09-30T00:00:00",
          "2020-10-31T00:00:00",
          "2020-11-30T00:00:00",
          "2020-12-31T00:00:00",
          "2021-01-31T00:00:00",
          "2021-02-28T00:00:00",
          "2021-03-31T00:00:00",
          "2021-04-30T00:00:00",
          "2021-05-31T00:00:00",
          "2021-06-30T00:00:00",
          "2021-07-31T00:00:00",
          "2021-08-31T00:00:00",
          "2021-09-30T00:00:00",
          "2021-10-31T00:00:00",
          "2021-11-30T00:00:00",
          "2021-12-31T00:00:00",
          "2022-01-31T00:00:00",
          "2022-02-28T00:00:00",
          "2022-03-31T00:00:00",
          "2022-04-30T00:00:00",
          "2022-05-31T00:00:00",
          "2022-06-30T00:00:00",
          "2022-07-31T00:00:00",
          "2022-08-31T00:00:00",
          "2022-09-30T00:00:00",
          "2022-10-31T00:00:00",
          "2022-11-30T00:00:00",
          "2022-12-31T00:00:00",
          "2023-01-31T00:00:00",
          "2023-02-28T00:00:00",
          "2023-03-31T00:00:00",
          "2023-04-30T00:00:00",
          "2023-05-31T00:00:00",
          "2023-06-30T00:00:00",
          "2023-07-31T00:00:00",
          "2023-08-31T00:00:00"
         ],
         "y": [
          47.8,
          34.5,
          35.9,
          38.8,
          29.6,
          45,
          24,
          27.3,
          23.7,
          24.9,
          13.7,
          8.5,
          0.9,
          28.4,
          14.4,
          11.2,
          3.5,
          -0.5,
          6.2,
          0.9,
          4.4,
          0.1,
          8.4,
          11.5,
          29.2,
          0.8,
          3.4,
          17.2,
          18.4,
          17.8,
          28.1,
          25.1,
          33.1,
          31.5,
          30.1,
          30.2,
          37.3,
          27.8,
          34.7,
          33.3,
          37.3,
          32.6,
          30.6,
          27.2,
          31.3,
          36.7,
          33.8,
          50.7,
          19.8,
          39.7,
          42.9,
          32.4,
          32.8,
          46.5,
          33.9,
          37.5,
          33.1,
          28.4,
          45.9,
          32.7,
          42.1,
          30,
          32.8,
          31.9,
          30.3,
          30.6,
          28.7,
          33.2,
          25.9,
          29.7,
          18.6,
          18.2,
          28.1,
          22.2,
          28.3,
          23.9,
          25.1,
          23.3,
          22.6,
          32.8,
          30.6,
          29.6,
          32.8,
          24.8,
          33,
          51.7,
          6.9,
          26.8,
          28.7,
          27.1,
          34.2,
          22.7,
          22.7,
          22.3,
          22.7,
          21.6,
          26.6,
          6.5,
          30.6,
          21.9,
          28.1,
          17.2,
          26.9,
          21.1,
          21.5,
          19.2,
          -2.2,
          -2.8,
          -17.5,
          -25.7,
          -17.1,
          -22.6,
          -26.4,
          -21.4,
          -23,
          -23.4,
          -15.2,
          -13.8,
          -1.2,
          17.7,
          21,
          45.7,
          24.3,
          30.5,
          48.5,
          43.9,
          38.1,
          34.4,
          25.1,
          22.9,
          34.9,
          17.9,
          37.7,
          2.4,
          35.8,
          29.9,
          19.4,
          17.9,
          20.4,
          24.5,
          17.1,
          15.9,
          13.8,
          13.4,
          -0.5,
          18.4,
          8.9,
          4.9,
          15.3,
          11.3,
          1,
          2.7,
          9.9,
          11.6,
          2.9,
          14.1,
          25,
          21.8,
          10,
          14.7,
          1,
          -3.1,
          5.1,
          7.2,
          -0.3,
          5.6,
          12.7,
          4.3,
          10.5,
          -18.1,
          -6.6,
          0.8,
          7.1,
          7.2,
          14.4,
          9.4,
          15.3,
          11.6,
          4.7,
          9.7,
          -3.5,
          48.2,
          -15.1,
          -6.6,
          -3.4,
          1.5,
          -9.2,
          -5.8,
          -3.9,
          -7,
          -7,
          -1.6,
          -15.2,
          -28,
          7.5,
          -5.3,
          -6.9,
          -6.8,
          -6.5,
          -3.8,
          -10.4,
          -7.9,
          -1.5,
          -6.2,
          6.6,
          -2.4,
          15.4,
          6.5,
          7.6,
          10.3,
          6.4,
          4.9,
          7.9,
          6.3,
          11.5,
          10.9,
          10.7,
          43.6,
          -3,
          11.9,
          11.9,
          10.7,
          11.6,
          9.6,
          13.9,
          14.3,
          3.9,
          -4.4,
          9.3,
          -20.7,
          14,
          -2.7,
          1.1,
          -1.5,
          3.4,
          -1,
          -3.2,
          -0.8,
          -1.3,
          7.9,
          -2.9,
          -40.6,
          -6.9,
          3.1,
          -3.5,
          0.2,
          6.8,
          9.1,
          9.4,
          10.9,
          20.6,
          18.1,
          24.6,
          154.6,
          30.4,
          32.1,
          27.7,
          32.1,
          19.2,
          25.4,
          28,
          26.9,
          21.7,
          20.9,
          24,
          6,
          14.3,
          3.5,
          16.4,
          17.1,
          18.1,
          7.4,
          5.6,
          -0.3,
          -9,
          -9.9,
          -12,
          -3.2,
          11.3,
          7.3,
          -7.3,
          -12.4,
          -14.5,
          -8.8
         ]
        }
       ],
       "layout": {
        "legend": {
         "bgcolor": "rgba(255, 255, 255, 0)",
         "orientation": "h",
         "x": 0,
         "y": -0.2
        },
        "template": {
         "data": {
          "bar": [
           {
            "error_x": {
             "color": "rgb(36,36,36)"
            },
            "error_y": {
             "color": "rgb(36,36,36)"
            },
            "marker": {
             "line": {
              "color": "white",
              "width": 0.5
             },
             "pattern": {
              "fillmode": "overlay",
              "size": 10,
              "solidity": 0.2
             }
            },
            "type": "bar"
           }
          ],
          "barpolar": [
           {
            "marker": {
             "line": {
              "color": "white",
              "width": 0.5
             },
             "pattern": {
              "fillmode": "overlay",
              "size": 10,
              "solidity": 0.2
             }
            },
            "type": "barpolar"
           }
          ],
          "carpet": [
           {
            "aaxis": {
             "endlinecolor": "rgb(36,36,36)",
             "gridcolor": "white",
             "linecolor": "white",
             "minorgridcolor": "white",
             "startlinecolor": "rgb(36,36,36)"
            },
            "baxis": {
             "endlinecolor": "rgb(36,36,36)",
             "gridcolor": "white",
             "linecolor": "white",
             "minorgridcolor": "white",
             "startlinecolor": "rgb(36,36,36)"
            },
            "type": "carpet"
           }
          ],
          "choropleth": [
           {
            "colorbar": {
             "outlinewidth": 1,
             "tickcolor": "rgb(36,36,36)",
             "ticks": "outside"
            },
            "type": "choropleth"
           }
          ],
          "contour": [
           {
            "colorbar": {
             "outlinewidth": 1,
             "tickcolor": "rgb(36,36,36)",
             "ticks": "outside"
            },
            "colorscale": [
             [
              0,
              "#440154"
             ],
             [
              0.1111111111111111,
              "#482878"
             ],
             [
              0.2222222222222222,
              "#3e4989"
             ],
             [
              0.3333333333333333,
              "#31688e"
             ],
             [
              0.4444444444444444,
              "#26828e"
             ],
             [
              0.5555555555555556,
              "#1f9e89"
             ],
             [
              0.6666666666666666,
              "#35b779"
             ],
             [
              0.7777777777777778,
              "#6ece58"
             ],
             [
              0.8888888888888888,
              "#b5de2b"
             ],
             [
              1,
              "#fde725"
             ]
            ],
            "type": "contour"
           }
          ],
          "contourcarpet": [
           {
            "colorbar": {
             "outlinewidth": 1,
             "tickcolor": "rgb(36,36,36)",
             "ticks": "outside"
            },
            "type": "contourcarpet"
           }
          ],
          "heatmap": [
           {
            "colorbar": {
             "outlinewidth": 1,
             "tickcolor": "rgb(36,36,36)",
             "ticks": "outside"
            },
            "colorscale": [
             [
              0,
              "#440154"
             ],
             [
              0.1111111111111111,
              "#482878"
             ],
             [
              0.2222222222222222,
              "#3e4989"
             ],
             [
              0.3333333333333333,
              "#31688e"
             ],
             [
              0.4444444444444444,
              "#26828e"
             ],
             [
              0.5555555555555556,
              "#1f9e89"
             ],
             [
              0.6666666666666666,
              "#35b779"
             ],
             [
              0.7777777777777778,
              "#6ece58"
             ],
             [
              0.8888888888888888,
              "#b5de2b"
             ],
             [
              1,
              "#fde725"
             ]
            ],
            "type": "heatmap"
           }
          ],
          "heatmapgl": [
           {
            "colorbar": {
             "outlinewidth": 1,
             "tickcolor": "rgb(36,36,36)",
             "ticks": "outside"
            },
            "colorscale": [
             [
              0,
              "#440154"
             ],
             [
              0.1111111111111111,
              "#482878"
             ],
             [
              0.2222222222222222,
              "#3e4989"
             ],
             [
              0.3333333333333333,
              "#31688e"
             ],
             [
              0.4444444444444444,
              "#26828e"
             ],
             [
              0.5555555555555556,
              "#1f9e89"
             ],
             [
              0.6666666666666666,
              "#35b779"
             ],
             [
              0.7777777777777778,
              "#6ece58"
             ],
             [
              0.8888888888888888,
              "#b5de2b"
             ],
             [
              1,
              "#fde725"
             ]
            ],
            "type": "heatmapgl"
           }
          ],
          "histogram": [
           {
            "marker": {
             "line": {
              "color": "white",
              "width": 0.6
             }
            },
            "type": "histogram"
           }
          ],
          "histogram2d": [
           {
            "colorbar": {
             "outlinewidth": 1,
             "tickcolor": "rgb(36,36,36)",
             "ticks": "outside"
            },
            "colorscale": [
             [
              0,
              "#440154"
             ],
             [
              0.1111111111111111,
              "#482878"
             ],
             [
              0.2222222222222222,
              "#3e4989"
             ],
             [
              0.3333333333333333,
              "#31688e"
             ],
             [
              0.4444444444444444,
              "#26828e"
             ],
             [
              0.5555555555555556,
              "#1f9e89"
             ],
             [
              0.6666666666666666,
              "#35b779"
             ],
             [
              0.7777777777777778,
              "#6ece58"
             ],
             [
              0.8888888888888888,
              "#b5de2b"
             ],
             [
              1,
              "#fde725"
             ]
            ],
            "type": "histogram2d"
           }
          ],
          "histogram2dcontour": [
           {
            "colorbar": {
             "outlinewidth": 1,
             "tickcolor": "rgb(36,36,36)",
             "ticks": "outside"
            },
            "colorscale": [
             [
              0,
              "#440154"
             ],
             [
              0.1111111111111111,
              "#482878"
             ],
             [
              0.2222222222222222,
              "#3e4989"
             ],
             [
              0.3333333333333333,
              "#31688e"
             ],
             [
              0.4444444444444444,
              "#26828e"
             ],
             [
              0.5555555555555556,
              "#1f9e89"
             ],
             [
              0.6666666666666666,
              "#35b779"
             ],
             [
              0.7777777777777778,
              "#6ece58"
             ],
             [
              0.8888888888888888,
              "#b5de2b"
             ],
             [
              1,
              "#fde725"
             ]
            ],
            "type": "histogram2dcontour"
           }
          ],
          "mesh3d": [
           {
            "colorbar": {
             "outlinewidth": 1,
             "tickcolor": "rgb(36,36,36)",
             "ticks": "outside"
            },
            "type": "mesh3d"
           }
          ],
          "parcoords": [
           {
            "line": {
             "colorbar": {
              "outlinewidth": 1,
              "tickcolor": "rgb(36,36,36)",
              "ticks": "outside"
             }
            },
            "type": "parcoords"
           }
          ],
          "pie": [
           {
            "automargin": true,
            "type": "pie"
           }
          ],
          "scatter": [
           {
            "fillpattern": {
             "fillmode": "overlay",
             "size": 10,
             "solidity": 0.2
            },
            "type": "scatter"
           }
          ],
          "scatter3d": [
           {
            "line": {
             "colorbar": {
              "outlinewidth": 1,
              "tickcolor": "rgb(36,36,36)",
              "ticks": "outside"
             }
            },
            "marker": {
             "colorbar": {
              "outlinewidth": 1,
              "tickcolor": "rgb(36,36,36)",
              "ticks": "outside"
             }
            },
            "type": "scatter3d"
           }
          ],
          "scattercarpet": [
           {
            "marker": {
             "colorbar": {
              "outlinewidth": 1,
              "tickcolor": "rgb(36,36,36)",
              "ticks": "outside"
             }
            },
            "type": "scattercarpet"
           }
          ],
          "scattergeo": [
           {
            "marker": {
             "colorbar": {
              "outlinewidth": 1,
              "tickcolor": "rgb(36,36,36)",
              "ticks": "outside"
             }
            },
            "type": "scattergeo"
           }
          ],
          "scattergl": [
           {
            "marker": {
             "colorbar": {
              "outlinewidth": 1,
              "tickcolor": "rgb(36,36,36)",
              "ticks": "outside"
             }
            },
            "type": "scattergl"
           }
          ],
          "scattermapbox": [
           {
            "marker": {
             "colorbar": {
              "outlinewidth": 1,
              "tickcolor": "rgb(36,36,36)",
              "ticks": "outside"
             }
            },
            "type": "scattermapbox"
           }
          ],
          "scatterpolar": [
           {
            "marker": {
             "colorbar": {
              "outlinewidth": 1,
              "tickcolor": "rgb(36,36,36)",
              "ticks": "outside"
             }
            },
            "type": "scatterpolar"
           }
          ],
          "scatterpolargl": [
           {
            "marker": {
             "colorbar": {
              "outlinewidth": 1,
              "tickcolor": "rgb(36,36,36)",
              "ticks": "outside"
             }
            },
            "type": "scatterpolargl"
           }
          ],
          "scatterternary": [
           {
            "marker": {
             "colorbar": {
              "outlinewidth": 1,
              "tickcolor": "rgb(36,36,36)",
              "ticks": "outside"
             }
            },
            "type": "scatterternary"
           }
          ],
          "surface": [
           {
            "colorbar": {
             "outlinewidth": 1,
             "tickcolor": "rgb(36,36,36)",
             "ticks": "outside"
            },
            "colorscale": [
             [
              0,
              "#440154"
             ],
             [
              0.1111111111111111,
              "#482878"
             ],
             [
              0.2222222222222222,
              "#3e4989"
             ],
             [
              0.3333333333333333,
              "#31688e"
             ],
             [
              0.4444444444444444,
              "#26828e"
             ],
             [
              0.5555555555555556,
              "#1f9e89"
             ],
             [
              0.6666666666666666,
              "#35b779"
             ],
             [
              0.7777777777777778,
              "#6ece58"
             ],
             [
              0.8888888888888888,
              "#b5de2b"
             ],
             [
              1,
              "#fde725"
             ]
            ],
            "type": "surface"
           }
          ],
          "table": [
           {
            "cells": {
             "fill": {
              "color": "rgb(237,237,237)"
             },
             "line": {
              "color": "white"
             }
            },
            "header": {
             "fill": {
              "color": "rgb(217,217,217)"
             },
             "line": {
              "color": "white"
             }
            },
            "type": "table"
           }
          ]
         },
         "layout": {
          "annotationdefaults": {
           "arrowhead": 0,
           "arrowwidth": 1
          },
          "autotypenumbers": "strict",
          "coloraxis": {
           "colorbar": {
            "outlinewidth": 1,
            "tickcolor": "rgb(36,36,36)",
            "ticks": "outside"
           }
          },
          "colorscale": {
           "diverging": [
            [
             0,
             "rgb(103,0,31)"
            ],
            [
             0.1,
             "rgb(178,24,43)"
            ],
            [
             0.2,
             "rgb(214,96,77)"
            ],
            [
             0.3,
             "rgb(244,165,130)"
            ],
            [
             0.4,
             "rgb(253,219,199)"
            ],
            [
             0.5,
             "rgb(247,247,247)"
            ],
            [
             0.6,
             "rgb(209,229,240)"
            ],
            [
             0.7,
             "rgb(146,197,222)"
            ],
            [
             0.8,
             "rgb(67,147,195)"
            ],
            [
             0.9,
             "rgb(33,102,172)"
            ],
            [
             1,
             "rgb(5,48,97)"
            ]
           ],
           "sequential": [
            [
             0,
             "#440154"
            ],
            [
             0.1111111111111111,
             "#482878"
            ],
            [
             0.2222222222222222,
             "#3e4989"
            ],
            [
             0.3333333333333333,
             "#31688e"
            ],
            [
             0.4444444444444444,
             "#26828e"
            ],
            [
             0.5555555555555556,
             "#1f9e89"
            ],
            [
             0.6666666666666666,
             "#35b779"
            ],
            [
             0.7777777777777778,
             "#6ece58"
            ],
            [
             0.8888888888888888,
             "#b5de2b"
            ],
            [
             1,
             "#fde725"
            ]
           ],
           "sequentialminus": [
            [
             0,
             "#440154"
            ],
            [
             0.1111111111111111,
             "#482878"
            ],
            [
             0.2222222222222222,
             "#3e4989"
            ],
            [
             0.3333333333333333,
             "#31688e"
            ],
            [
             0.4444444444444444,
             "#26828e"
            ],
            [
             0.5555555555555556,
             "#1f9e89"
            ],
            [
             0.6666666666666666,
             "#35b779"
            ],
            [
             0.7777777777777778,
             "#6ece58"
            ],
            [
             0.8888888888888888,
             "#b5de2b"
            ],
            [
             1,
             "#fde725"
            ]
           ]
          },
          "colorway": [
           "#1F77B4",
           "#FF7F0E",
           "#2CA02C",
           "#D62728",
           "#9467BD",
           "#8C564B",
           "#E377C2",
           "#7F7F7F",
           "#BCBD22",
           "#17BECF"
          ],
          "font": {
           "color": "rgb(36,36,36)"
          },
          "geo": {
           "bgcolor": "white",
           "lakecolor": "white",
           "landcolor": "white",
           "showlakes": true,
           "showland": true,
           "subunitcolor": "white"
          },
          "hoverlabel": {
           "align": "left"
          },
          "hovermode": "closest",
          "mapbox": {
           "style": "light"
          },
          "paper_bgcolor": "white",
          "plot_bgcolor": "white",
          "polar": {
           "angularaxis": {
            "gridcolor": "rgb(232,232,232)",
            "linecolor": "rgb(36,36,36)",
            "showgrid": false,
            "showline": true,
            "ticks": "outside"
           },
           "bgcolor": "white",
           "radialaxis": {
            "gridcolor": "rgb(232,232,232)",
            "linecolor": "rgb(36,36,36)",
            "showgrid": false,
            "showline": true,
            "ticks": "outside"
           }
          },
          "scene": {
           "xaxis": {
            "backgroundcolor": "white",
            "gridcolor": "rgb(232,232,232)",
            "gridwidth": 2,
            "linecolor": "rgb(36,36,36)",
            "showbackground": true,
            "showgrid": false,
            "showline": true,
            "ticks": "outside",
            "zeroline": false,
            "zerolinecolor": "rgb(36,36,36)"
           },
           "yaxis": {
            "backgroundcolor": "white",
            "gridcolor": "rgb(232,232,232)",
            "gridwidth": 2,
            "linecolor": "rgb(36,36,36)",
            "showbackground": true,
            "showgrid": false,
            "showline": true,
            "ticks": "outside",
            "zeroline": false,
            "zerolinecolor": "rgb(36,36,36)"
           },
           "zaxis": {
            "backgroundcolor": "white",
            "gridcolor": "rgb(232,232,232)",
            "gridwidth": 2,
            "linecolor": "rgb(36,36,36)",
            "showbackground": true,
            "showgrid": false,
            "showline": true,
            "ticks": "outside",
            "zeroline": false,
            "zerolinecolor": "rgb(36,36,36)"
           }
          },
          "shapedefaults": {
           "fillcolor": "black",
           "line": {
            "width": 0
           },
           "opacity": 0.3
          },
          "ternary": {
           "aaxis": {
            "gridcolor": "rgb(232,232,232)",
            "linecolor": "rgb(36,36,36)",
            "showgrid": false,
            "showline": true,
            "ticks": "outside"
           },
           "baxis": {
            "gridcolor": "rgb(232,232,232)",
            "linecolor": "rgb(36,36,36)",
            "showgrid": false,
            "showline": true,
            "ticks": "outside"
           },
           "bgcolor": "white",
           "caxis": {
            "gridcolor": "rgb(232,232,232)",
            "linecolor": "rgb(36,36,36)",
            "showgrid": false,
            "showline": true,
            "ticks": "outside"
           }
          },
          "title": {
           "x": 0.05
          },
          "xaxis": {
           "automargin": true,
           "gridcolor": "rgb(232,232,232)",
           "linecolor": "rgb(36,36,36)",
           "showgrid": false,
           "showline": true,
           "ticks": "outside",
           "title": {
            "standoff": 15
           },
           "zeroline": false,
           "zerolinecolor": "rgb(36,36,36)"
          },
          "yaxis": {
           "automargin": true,
           "gridcolor": "rgb(232,232,232)",
           "linecolor": "rgb(36,36,36)",
           "showgrid": false,
           "showline": true,
           "ticks": "outside",
           "title": {
            "standoff": 15
           },
           "zeroline": false,
           "zerolinecolor": "rgb(36,36,36)"
          }
         }
        },
        "title": {
         "text": "Exportations de la Chine (YoY)",
         "x": 0.5,
         "xanchor": "center"
        },
        "xaxis": {
         "title": {
          "text": "Date"
         }
        }
       }
      }
     },
     "metadata": {},
     "output_type": "display_data"
    }
   ],
   "source": [
    "export=pd.read_excel(file_path,sheet_name=\"export_china\")\n",
    "fig=go.Figure()\n",
    "fig.add_trace(go.Scatter(x=export['Date'],y=export['VALUE'],line_color='#00334E',name='Exports'))\n",
    "    # add horizontal line\n",
    "fig.update_layout(title={'text': \"Exportations de la Chine (YoY)\",'x': 0.5,'xanchor': 'center'},xaxis_title='Date',template=\"simple_white\",\n",
    "    legend=dict(x=0, y=-0.2, orientation='h', bgcolor='rgba(255, 255, 255, 0)'))\n",
    "fig"
   ]
  },
  {
   "cell_type": "code",
   "execution_count": 41,
   "metadata": {},
   "outputs": [],
   "source": [
    "def cpi_china(start_date='1990-01-01',end_date=dt.today()):\n",
    "    \"\"\"\n",
    "    Function\n",
    "    ---------- \n",
    "    Plot with plotly the consumer price index rate in the us\n",
    "    https://fred.stlouisfed.org/series/CPALTT01CNM659N\n",
    "    \n",
    "    Parameters\n",
    "    ----------\n",
    "    start_date: start date of you're plot\n",
    "    end_date: end date of you're plot\n",
    "    \n",
    "    Returns\n",
    "    ------\n",
    "    plot the CPI in US\n",
    "    \"\"\"\n",
    "    cpi=web.DataReader('CPALTT01CNM659N','fred', start=start_date, end=end_date)\n",
    "    fig = go.Figure()\n",
    "    fig.add_trace(go.Scatter(x=cpi.index, y=cpi['CPALTT01CNM659N'],line_color='#00334E', name='IPC'))\n",
    "    fig.update_layout(title={'text': 'Indice des prix à la consommation','x': 0.5,'xanchor': 'center'},xaxis_title='Date',yaxis_title='IPC (%)',template=\"simple_white\",\n",
    "                      legend=dict(x=0, y=-0.2, orientation='h', bgcolor='rgba(255, 255, 255, 0)'))\n",
    "    return fig"
   ]
  },
  {
   "cell_type": "code",
   "execution_count": 43,
   "metadata": {},
   "outputs": [
    {
     "name": "stderr",
     "output_type": "stream",
     "text": [
      "C:\\Users\\cm12c\\AppData\\Local\\Temp\\ipykernel_30280\\770557007.py:137: UserWarning: This figure includes Axes that are not compatible with tight_layout, so results might be incorrect.\n",
      "  plt.tight_layout(rect=[0,0.1,1,1])\n"
     ]
    },
    {
     "data": {
      "image/png": "[encoded data removed]",
      "text/plain": [
       "<Figure size 1300x600 with 2 Axes>"
      ]
     },
     "metadata": {},
     "output_type": "display_data"
    }
   ],
   "source": [
    "import numpy as np\n",
    "import matplotlib.pyplot as plt\n",
    "import matplotlib.colors as mcolors\n",
    "from mpl_toolkits.axes_grid1.inset_locator import inset_axes\n",
    "\n",
    "# Paramètres\n",
    "valeur_initiale = 0\n",
    "contribution_annuelle = 10000\n",
    "taux_de_rendement = 0.07\n",
    "objectif = 1_000_000\n",
    "jalons = np.arange(100_000, objectif + 1, 100_000)\n",
    "\n",
    "# Simulation\n",
    "annees = [0]\n",
    "valeurs_totales = [valeur_initiale]\n",
    "cotisations = [valeur_initiale]\n",
    "rendements = [0]\n",
    "t = 0\n",
    "\n",
    "while valeurs_totales[-1] < objectif:\n",
    "    t += 1\n",
    "    new_cot = cotisations[-1] + contribution_annuelle\n",
    "    new_val = valeurs_totales[-1] * (1 + taux_de_rendement) + contribution_annuelle\n",
    "    new_rend = new_val - new_cot\n",
    "\n",
    "    annees.append(t)\n",
    "    cotisations.append(new_cot)\n",
    "    valeurs_totales.append(new_val)\n",
    "    rendements.append(new_rend)\n",
    "\n",
    "# Interpolation jalons\n",
    "jalons_annees = []\n",
    "for j in jalons:\n",
    "    for i in range(1, len(valeurs_totales)):\n",
    "        if valeurs_totales[i] >= j:\n",
    "            v1, v2 = valeurs_totales[i-1], valeurs_totales[i]\n",
    "            t1, t2 = annees[i-1], annees[i]\n",
    "            frac = (j - v1) / (v2 - v1)\n",
    "            exact_year = t1 + frac * (t2 - t1)\n",
    "            jalons_annees.append(round(exact_year, 2))\n",
    "            break\n",
    "\n",
    "# Progression en temps (%)\n",
    "temps_total = jalons_annees[-1]\n",
    "progres_temps = [round((a / temps_total) * 100, 0) for a in jalons_annees]  # arrondi 0 décimale\n",
    "durées_intervalles = [round(jalons_annees[i] - jalons_annees[i-1], 2) for i in range(1, len(jalons_annees))]\n",
    "\n",
    "# Conversion numpy\n",
    "annees = np.array(annees)\n",
    "cotisations = np.array(cotisations)\n",
    "rendements = np.array(rendements)\n",
    "valeurs_totales = np.array(valeurs_totales)\n",
    "\n",
    "# Dégradé rouge->vert pour la barre de progression\n",
    "from matplotlib.colors import LinearSegmentedColormap\n",
    "cmap = LinearSegmentedColormap.from_list('RdYlGn', ['red', 'yellow', 'green'])\n",
    "norm = mcolors.Normalize(vmin=0, vmax=100)\n",
    "\n",
    "# Figure & axe\n",
    "fig, ax = plt.subplots(figsize=(13, 6))\n",
    "\n",
    "# Empilé (cotisations + rendements)\n",
    "ax.stackplot(annees, cotisations, rendements,\n",
    "             labels=[\"Contributions\", \"Rendements\"],\n",
    "             colors=[\"#76b947\", \"#4a90e2\"])\n",
    "\n",
    "# Supprimer grille\n",
    "ax.grid(False)\n",
    "\n",
    "# Supprimer bordures droite et haut\n",
    "ax.spines['top'].set_visible(False)\n",
    "ax.spines['right'].set_visible(False)\n",
    "\n",
    "# Garder bordures bas et gauche mais en gris clair\n",
    "ax.spines['bottom'].set_color('#CCCCCC')\n",
    "ax.spines['left'].set_color('#CCCCCC')\n",
    "\n",
    "# Jalons et annotations :\n",
    "for i, (j, a) in enumerate(zip(jalons, jalons_annees)):\n",
    "    # Ligne verticale discrète\n",
    "    ax.axvline(x=a, linestyle='--', color='gray', alpha=0.25)\n",
    "\n",
    "    # Afficher valeur jalon (ex: \"100k\" sauf pour 1M)\n",
    "    label = \"1M\" if j == objectif else f\"{j//1000}k\"\n",
    "    ax.text(a, j * 1.02, label, ha='center', va='bottom', fontsize=10, fontweight='bold', color='#333333')\n",
    "\n",
    "    # Durées entre jalons (sauf premier)\n",
    "    if i > 0:\n",
    "        milieu = (jalons_annees[i-1] + a) / 2\n",
    "        y_pos = - (objectif * 0.05)\n",
    "        ax.text(milieu, y_pos - (objectif * 0.04), f\"{durées_intervalles[i-1]} ans\",\n",
    "                fontsize=9, ha='center', va='top', color='#555555')\n",
    "\n",
    "# Ajuster limites y pour faire de la place sous x pour durée\n",
    "ax.set_ylim(bottom=-objectif*0.12)\n",
    "\n",
    "# Limites axes sans marge pour démarrer pile à (0,0)\n",
    "ax.set_xlim(left=0, right=temps_total)\n",
    "ax.set_ylim(bottom=-objectif*0.12, top=objectif)\n",
    "ax.margins(x=0, y=0)\n",
    "\n",
    "# Personnaliser ticks axe X : uniquement aux jalons\n",
    "ax.set_xticks(jalons_annees)\n",
    "ax.set_xticklabels([str(round(x,2)) for x in jalons_annees])\n",
    "\n",
    "# Barre de progression intégrée (avec alignement corrigé)\n",
    "bar_ax = inset_axes(ax, width=\"100%\", height=\"8%\", loc='lower left',\n",
    "                    bbox_to_anchor=(0, -0.15, 1, 0.1),\n",
    "                    bbox_transform=ax.transAxes, borderpad=0)\n",
    "\n",
    "bar_ax.set_anchor('W')\n",
    "\n",
    "gradient = np.linspace(0, 1, 256).reshape(1, -1)\n",
    "bar_ax.imshow(gradient, aspect='auto', cmap=cmap, extent=[0, temps_total, 0, 1])\n",
    "bar_ax.set_xlim([0, temps_total])\n",
    "bar_ax.set_ylim([0, 1])\n",
    "bar_ax.axis('off')\n",
    "\n",
    "# Ajouter le pourcentage d’avancement sur la barre de progression, au-dessus des jalons\n",
    "for a, p in zip(jalons_annees, progres_temps):\n",
    "    bar_ax.text(a, 1.1, f\"{int(p)}%\", ha='center', va='bottom', fontsize=9, color='black', fontweight='bold')\n",
    "\n",
    "# TITRE dans le graphique, aligné à gauche et en haut\n",
    "ax.text(0, objectif * 0.95, \"Évolution de l'investissement – Cotisations vs Rendements\",\n",
    "        fontsize=16, fontweight='bold', ha='left', va='top')\n",
    "\n",
    "# Déplacer légende un peu plus bas (juste en dessous du titre, mais au-dessus du graphe)\n",
    "ax.legend(loc=\"upper left\", bbox_to_anchor=(0, 0.8), fontsize=11)\n",
    "\n",
    "# Axes\n",
    "ax.set_xlabel(\"Temps (années)\", fontsize=12)\n",
    "ax.set_ylabel(\"\", fontsize=12)\n",
    "ax.get_yaxis().get_major_formatter().set_scientific(False)\n",
    "ax.get_yaxis().set_visible(False)\n",
    "ax.spines['left'].set_visible(False)\n",
    "# Ajustement layout\n",
    "plt.tight_layout(rect=[0,0.1,1,1])\n",
    "\n",
    "plt.show()\n"
   ]
  },
  {
   "cell_type": "code",
   "execution_count": null,
   "metadata": {},
   "outputs": [
    {
     "name": "stderr",
     "output_type": "stream",
     "text": [
      "C:\\Users\\cm12c\\AppData\\Local\\Temp\\ipykernel_30280\\3380581158.py:141: UserWarning: This figure includes Axes that are not compatible with tight_layout, so results might be incorrect.\n",
      "  plt.tight_layout(rect=[0,0.1,1,1])  # pour laisser place à la barre en bas\n"
     ]
    },
    {
     "data": {
      "image/png": "[encoded data removed]",
      "text/plain": [
       "<Figure size 1300x600 with 2 Axes>"
      ]
     },
     "metadata": {},
     "output_type": "display_data"
    }
   ],
   "source": [
    "import numpy as np\n",
    "import matplotlib.pyplot as plt\n",
    "import matplotlib.colors as mcolors\n",
    "from mpl_toolkits.axes_grid1.inset_locator import inset_axes\n",
    "\n",
    "# Paramètres\n",
    "valeur_initiale = 0\n",
    "contribution_annuelle = 10000\n",
    "taux_de_rendement = 0.07\n",
    "objectif = 1_000_000\n",
    "jalons = np.arange(100_000, objectif + 1, 100_000)\n",
    "\n",
    "# Simulation\n",
    "annees = [0]\n",
    "valeurs_totales = [valeur_initiale]\n",
    "cotisations = [valeur_initiale]\n",
    "rendements = [0]\n",
    "t = 0\n",
    "\n",
    "while valeurs_totales[-1] < objectif:\n",
    "    t += 1\n",
    "    new_cot = cotisations[-1] + contribution_annuelle\n",
    "    new_val = valeurs_totales[-1] * (1 + taux_de_rendement) + contribution_annuelle\n",
    "    new_rend = new_val - new_cot\n",
    "\n",
    "    annees.append(t)\n",
    "    cotisations.append(new_cot)\n",
    "    valeurs_totales.append(new_val)\n",
    "    rendements.append(new_rend)\n",
    "\n",
    "# Interpolation jalons\n",
    "jalons_annees = []\n",
    "for j in jalons:\n",
    "    for i in range(1, len(valeurs_totales)):\n",
    "        if valeurs_totales[i] >= j:\n",
    "            v1, v2 = valeurs_totales[i-1], valeurs_totales[i]\n",
    "            t1, t2 = annees[i-1], annees[i]\n",
    "            frac = (j - v1) / (v2 - v1)\n",
    "            exact_year = t1 + frac * (t2 - t1)\n",
    "            jalons_annees.append(round(exact_year, 2))\n",
    "            break\n",
    "\n",
    "# Progression en temps (%)\n",
    "temps_total = jalons_annees[-1]\n",
    "progres_temps = [round((a / temps_total) * 100, ) for a in jalons_annees]  # Arrondi 0 décimale\n",
    "durées_intervalles = [round(jalons_annees[i] - jalons_annees[i-1], 2) for i in range(1, len(jalons_annees))]\n",
    "\n",
    "# Conversion numpy\n",
    "annees = np.array(annees)\n",
    "cotisations = np.array(cotisations)\n",
    "rendements = np.array(rendements)\n",
    "valeurs_totales = np.array(valeurs_totales)\n",
    "\n",
    "# Dégradé de couleur rouge -> vert\n",
    "from matplotlib.colors import LinearSegmentedColormap\n",
    "colors = [\"#d62728\", \"#2ca02c\"]  # rouge vers vert\n",
    "cmap = LinearSegmentedColormap.from_list(\"RedGreen\", colors)\n",
    "\n",
    "# Figure & axe\n",
    "fig, ax = plt.subplots(figsize=(13, 6))\n",
    "\n",
    "# Empilé (cotisations + rendements)\n",
    "ax.stackplot(annees, cotisations, rendements,\n",
    "             labels=[\"Contributions\", \"Rendements\"],\n",
    "             colors=[\"#76b947\", \"#4a90e2\"])\n",
    "\n",
    "# Supprimer grille\n",
    "ax.grid(False)\n",
    "\n",
    "# Supprimer bordures droite et haut\n",
    "ax.spines['top'].set_visible(False)\n",
    "ax.spines['right'].set_visible(False)\n",
    "\n",
    "# Garder bordures bas et gauche mais en gris clair\n",
    "ax.spines['bottom'].set_color('#CCCCCC')\n",
    "ax.spines['left'].set_color('#CCCCCC')\n",
    "\n",
    "# Supprimer affichage de l'axe Y et sa ligne\n",
    "ax.get_yaxis().set_visible(False)\n",
    "ax.spines['left'].set_visible(False)\n",
    "\n",
    "# Jalons et annotations :\n",
    "for i, (j, a) in enumerate(zip(jalons, jalons_annees)):\n",
    "    # Ligne verticale discrète\n",
    "    ax.axvline(x=a, linestyle='--', color='gray', alpha=0.25)\n",
    "\n",
    "    # Afficher valeur jalon (ex: \"100k\" ou \"1M\") sur le graphique en haut de la ligne verticale\n",
    "    label = f\"{j//1000}k\" if j < 1_000_000 else \"1M\"\n",
    "    ax.text(a, j * 1.02, label, ha='center', va='bottom', fontsize=10, fontweight='bold', color='#333333')\n",
    "\n",
    "    # Pour les durées entre jalons (sauf premier)\n",
    "    if i > 0:\n",
    "        milieu = (jalons_annees[i-1] + a) / 2\n",
    "        y_pos = - (objectif * 0.05)\n",
    "        ax.text(milieu, y_pos - (objectif * 0.04), f\"{durées_intervalles[i-1]} ans\",\n",
    "                fontsize=9, ha='center', va='top', color='#555555')\n",
    "\n",
    "# Ajuster limites y pour faire de la place sous x pour durée\n",
    "ax.set_ylim(bottom = - objectif*0.12)\n",
    "\n",
    "# Limites axes sans marge pour démarrer pile à (0,0)\n",
    "ax.set_xlim(left=0, right=temps_total)\n",
    "ax.set_ylim(bottom= - objectif*0.12, top=objectif)\n",
    "ax.margins(x=0, y=0)\n",
    "\n",
    "# Personnaliser ticks axe X : uniquement aux jalons\n",
    "ax.set_xticks(jalons_annees)\n",
    "ax.set_xticklabels([str(round(x,2)) for x in jalons_annees])\n",
    "\n",
    "# Barre de progression intégrée (avec alignement corrigé, hauteur 8%)\n",
    "bar_ax = inset_axes(ax, width=\"100%\", height=\"10%\", loc='lower left',\n",
    "                    bbox_to_anchor=(0, -0.15, 1, 0.1),\n",
    "                    bbox_transform=ax.transAxes, borderpad=0)\n",
    "\n",
    "bar_ax.set_anchor('W')  # Ancrer à gauche\n",
    "\n",
    "gradient = np.linspace(0, 1, 256).reshape(1, -1)\n",
    "bar_ax.imshow(gradient, aspect='auto', cmap=cmap, extent=[0, temps_total, 0, 1])\n",
    "bar_ax.set_xlim([0, temps_total])\n",
    "bar_ax.set_ylim([0, 1])\n",
    "bar_ax.axis('off')\n",
    "\n",
    "# Ajouter le pourcentage d’avancement sur la barre de progression, au-dessus des jalons\n",
    "for a, p in zip(jalons_annees, progres_temps):\n",
    "    bar_ax.text(a, 1.1, f\"{p}%\", ha='center', va='bottom', fontsize=9, color='black', fontweight='bold')\n",
    "\n",
    "# Légende (un peu plus bas)\n",
    "ax.legend(loc=\"upper left\", fontsize=11, bbox_to_anchor=(0, 1.03))\n",
    "\n",
    "# TITRE en deux parties\n",
    "ax.text(0, objectif*1.05, \"Épargner votre premier million $\",\n",
    "        fontsize=18, fontweight='bold', ha='left', va='bottom')\n",
    "ax.text(0, objectif*1.01, \"assumant une contribution de 10k par année et un rendement de 7%\",\n",
    "        fontsize=12, ha='left', va='bottom')\n",
    "\n",
    "# Titres axes\n",
    "ax.set_xlabel(\"Temps (années)\", fontsize=12)\n",
    "ax.set_ylabel(\"\")  # Sans label vertical\n",
    "\n",
    "# Ajustement layout\n",
    "plt.tight_layout(rect=[0,0.1,1,1])  # pour laisser place à la barre en bas\n",
    "\n",
    "plt.show()\n"
   ]
  },
  {
   "cell_type": "code",
   "execution_count": 52,
   "metadata": {},
   "outputs": [
    {
     "name": "stderr",
     "output_type": "stream",
     "text": [
      "C:\\Users\\cm12c\\AppData\\Local\\Temp\\ipykernel_30280\\3284056452.py:141: UserWarning: This figure includes Axes that are not compatible with tight_layout, so results might be incorrect.\n",
      "  plt.tight_layout(rect=[0,0.1,1,1])  # pour laisser place à la barre en bas\n"
     ]
    },
    {
     "data": {
      "image/png": "[encoded data removed]",
      "text/plain": [
       "<Figure size 1300x600 with 2 Axes>"
      ]
     },
     "metadata": {},
     "output_type": "display_data"
    }
   ],
   "source": [
    "import numpy as np\n",
    "import matplotlib.pyplot as plt\n",
    "import matplotlib.colors as mcolors\n",
    "from mpl_toolkits.axes_grid1.inset_locator import inset_axes\n",
    "\n",
    "# Paramètres\n",
    "valeur_initiale = 0\n",
    "contribution_annuelle = 10000\n",
    "taux_de_rendement = 0.07\n",
    "objectif = 1_000_000\n",
    "jalons = np.arange(100_000, objectif + 1, 100_000)\n",
    "\n",
    "# Simulation\n",
    "annees = [0]\n",
    "valeurs_totales = [valeur_initiale]\n",
    "cotisations = [valeur_initiale]\n",
    "rendements = [0]\n",
    "t = 0\n",
    "\n",
    "while valeurs_totales[-1] < objectif:\n",
    "    t += 1\n",
    "    new_cot = cotisations[-1] + contribution_annuelle\n",
    "    new_val = valeurs_totales[-1] * (1 + taux_de_rendement) + contribution_annuelle\n",
    "    new_rend = new_val - new_cot\n",
    "\n",
    "    annees.append(t)\n",
    "    cotisations.append(new_cot)\n",
    "    valeurs_totales.append(new_val)\n",
    "    rendements.append(new_rend)\n",
    "\n",
    "# Interpolation jalons\n",
    "jalons_annees = []\n",
    "for j in jalons:\n",
    "    for i in range(1, len(valeurs_totales)):\n",
    "        if valeurs_totales[i] >= j:\n",
    "            v1, v2 = valeurs_totales[i-1], valeurs_totales[i]\n",
    "            t1, t2 = annees[i-1], annees[i]\n",
    "            frac = (j - v1) / (v2 - v1)\n",
    "            exact_year = t1 + frac * (t2 - t1)\n",
    "            jalons_annees.append(round(exact_year, 2))\n",
    "            break\n",
    "\n",
    "# Progression en temps (%)\n",
    "temps_total = jalons_annees[-1]\n",
    "progres_temps = [round((a / temps_total) * 100, ) for a in jalons_annees]  # Arrondi 0 décimale\n",
    "durées_intervalles = [round(jalons_annees[i] - jalons_annees[i-1], 2) for i in range(1, len(jalons_annees))]\n",
    "\n",
    "# Conversion numpy\n",
    "annees = np.array(annees)\n",
    "cotisations = np.array(cotisations)\n",
    "rendements = np.array(rendements)\n",
    "valeurs_totales = np.array(valeurs_totales)\n",
    "\n",
    "# Dégradé de couleur rouge -> vert\n",
    "from matplotlib.colors import LinearSegmentedColormap\n",
    "colors = [\"#d62728\", \"#2ca02c\"]  # rouge vers vert\n",
    "cmap = LinearSegmentedColormap.from_list(\"RedGreen\", colors)\n",
    "\n",
    "# Figure & axe\n",
    "fig, ax = plt.subplots(figsize=(13, 6))\n",
    "\n",
    "# Empilé (cotisations + rendements)\n",
    "ax.stackplot(annees, cotisations, rendements,\n",
    "             labels=[\"Contributions\", \"Rendements\"],\n",
    "             colors=[\"#76b947\", \"#4a90e2\"])\n",
    "\n",
    "# Supprimer grille\n",
    "ax.grid(False)\n",
    "\n",
    "# Supprimer bordures droite et haut\n",
    "ax.spines['top'].set_visible(False)\n",
    "ax.spines['right'].set_visible(False)\n",
    "\n",
    "# Garder bordures bas et gauche mais en gris clair\n",
    "ax.spines['bottom'].set_color('#CCCCCC')\n",
    "ax.spines['left'].set_color('#CCCCCC')\n",
    "\n",
    "# Supprimer affichage de l'axe Y et sa ligne\n",
    "ax.get_yaxis().set_visible(False)\n",
    "ax.spines['left'].set_visible(False)\n",
    "\n",
    "# Jalons et annotations :\n",
    "for i, (j, a) in enumerate(zip(jalons, jalons_annees)):\n",
    "    # Ligne verticale discrète\n",
    "    ax.axvline(x=a, linestyle='--', color='gray', alpha=0.25)\n",
    "\n",
    "    # Afficher valeur jalon (ex: \"100k\" ou \"1M\") sur le graphique en haut de la ligne verticale\n",
    "    label = f\"{j//1000}k\" if j < 1_000_000 else \"1M\"\n",
    "    ax.text(a, j * 1.02, label, ha='center', va='bottom', fontsize=10, fontweight='bold', color='#333333')\n",
    "\n",
    "    # Pour les durées entre jalons (sauf premier)\n",
    "    #if i > 0:\n",
    "        #milieu = (jalons_annees[i-1] + a) / 2\n",
    "        #y_pos = - (objectif * 0.05)\n",
    "        #ax.text(milieu, y_pos - (objectif * 0.04), f\"{durées_intervalles[i-1]} ans\",\n",
    "                #fontsize=9, ha='center', va='top', color='#555555')\n",
    "\n",
    "# Ajuster limites y pour faire de la place sous x pour durée\n",
    "ax.set_ylim(bottom = - objectif*0.12)\n",
    "\n",
    "# Limites axes sans marge pour démarrer pile à (0,0)\n",
    "ax.set_xlim(left=0, right=temps_total)\n",
    "ax.set_ylim(bottom= - objectif*0.12, top=objectif)\n",
    "ax.margins(x=0, y=0)\n",
    "\n",
    "# Personnaliser ticks axe X : uniquement aux jalons\n",
    "ax.set_xticks(jalons_annees)\n",
    "ax.set_xticklabels([str(round(x,2)) for x in jalons_annees])\n",
    "\n",
    "# Barre de progression intégrée (avec alignement corrigé, hauteur 8%)\n",
    "bar_ax = inset_axes(ax, width=\"100%\", height=\"10%\", loc='lower left',\n",
    "                    bbox_to_anchor=(0, -0.15, 1, 0.1),\n",
    "                    bbox_transform=ax.transAxes, borderpad=0)\n",
    "\n",
    "bar_ax.set_anchor('W')  # Ancrer à gauche\n",
    "\n",
    "gradient = np.linspace(0, 1, 256).reshape(1, -1)\n",
    "bar_ax.imshow(gradient, aspect='auto', cmap=cmap, extent=[0, temps_total, 0, 1])\n",
    "bar_ax.set_xlim([0, temps_total])\n",
    "bar_ax.set_ylim([0, 1])\n",
    "bar_ax.axis('off')\n",
    "\n",
    "# Ajouter le pourcentage d’avancement sur la barre de progression, au-dessus des jalons\n",
    "for a, p in zip(jalons_annees, progres_temps):\n",
    "    bar_ax.text(a, 1.1, f\"{p}%\", ha='center', va='bottom', fontsize=9, color='black', fontweight='bold')\n",
    "\n",
    "# Légende (un peu plus bas)\n",
    "ax.legend(loc=\"upper left\", fontsize=11, bbox_to_anchor=(0, 1.03))\n",
    "\n",
    "# TITRE en deux parties\n",
    "ax.text(0, objectif*1.05, \"Épargner votre premier million $\",\n",
    "        fontsize=18, fontweight='bold', ha='left', va='bottom')\n",
    "ax.text(0, objectif*1.01, \"assumant une contribution de 10k par année et un rendement de 7%\",\n",
    "        fontsize=12, ha='left', va='bottom')\n",
    "\n",
    "# Titres axes\n",
    "ax.set_xlabel(\"Temps (années)\", fontsize=12)\n",
    "ax.set_ylabel(\"\")  # Sans label vertical\n",
    "\n",
    "# Ajustement layout\n",
    "plt.tight_layout(rect=[0,0.1,1,1])  # pour laisser place à la barre en bas\n",
    "\n",
    "plt.show()\n"
   ]
  },
  {
   "cell_type": "code",
   "execution_count": null,
   "metadata": {},
   "outputs": [],
   "source": []
  }
 ],
 "metadata": {
  "kernelspec": {
   "display_name": "base",
   "language": "python",
   "name": "python3"
  },
  "language_info": {
   "codemirror_mode": {
    "name": "ipython",
    "version": 3
   },
   "file_extension": ".py",
   "mimetype": "text/x-python",
   "name": "python",
   "nbconvert_exporter": "python",
   "pygments_lexer": "ipython3",
   "version": "3.12.7"
  },
  "orig_nbformat": 4
 },
 "nbformat": 4,
 "nbformat_minor": 2
}
