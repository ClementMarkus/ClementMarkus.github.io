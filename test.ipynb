{
 "cells": [
  {
   "cell_type": "code",
   "execution_count": 2,
   "metadata": {},
   "outputs": [],
   "source": [
    "import eikon as ek  # the Eikon Python wrapper package\n",
    "import pandas as pd  # pandas\n",
    "\n",
    "# Set the app key\n",
    "ek.set_app_key('ed38bad70d5349ab8f74c842ba1fc15d1964a885')\n",
    "\n",
    "# Get the data for different countries\n",
    "\n",
    "# United States\n",
    "# set the file path\n",
    "file_path_us= r'C:\\Users\\cm12c\\OneDrive\\Documents\\dashboard_data.xlsx'\n",
    "# get the data\n",
    "\n",
    "pmi_us= ek.get_timeseries('USPMI=ECI', start_date='2000-01-01', interval='monthly')\n",
    "confidence_us= ek.get_timeseries('USCONC=ECI', start_date='2000-01-01', interval='monthly')\n",
    "pmi_ca= ek.get_timeseries('CAIPMI=ECI', start_date='2000-01-01', interval='monthly')\n",
    "confidence_ca= ek.get_timeseries('aCACONCF', start_date='2000-01-01', interval='monthly')\n",
    "\n",
    "\n",
    "# write the file to excel\n",
    "writer_us = pd.ExcelWriter(file_path_us, engine='xlsxwriter')\n",
    "# Write each data set to a separate sheet\n",
    "\n",
    "pmi_us.to_excel(writer_us, sheet_name='pmi_us')\n",
    "confidence_us.to_excel(writer_us, sheet_name='confidence_us')\n",
    "pmi_ca.to_excel(writer_us, sheet_name='pmi_ca')\n",
    "confidence_ca.to_excel(writer_us, sheet_name='confidence_ca')\n",
    "\n",
    "\n",
    "# Save the Excel file and close the Pandas Excel writer\n",
    "writer_us.close()"
   ]
  },
  {
   "cell_type": "code",
   "execution_count": 2,
   "metadata": {},
   "outputs": [],
   "source": [
    "from graphs import *\n",
    "from arch import arch_model\n",
    "from scipy.stats import mstats\n",
    "from datetime import datetime as dt\n",
    "import numpy as np\n",
    "import plotly.graph_objs as go\n",
    "import plotly.subplots as sp\n",
    "from datetime import date as dt "
   ]
  },
  {
   "cell_type": "code",
   "execution_count": 3,
   "metadata": {},
   "outputs": [],
   "source": [
    "config = {\n",
    "  'toImageButtonOptions': {\n",
    "    'format': 'png', # one of png, svg, jpeg, webp\n",
    "    'filename': 'custom_image',\n",
    "    'height': 600,\n",
    "    'width': 800,\n",
    "    'scale': 7  }} # Multiply title/legend/axis/canvas sizes by this factor"
   ]
  },
  {
   "cell_type": "code",
   "execution_count": null,
   "metadata": {},
   "outputs": [],
   "source": [
    "pd.read_excel(file_path_us, sheet_name='pmi_us', index_col=0, parse_dates=True)"
   ]
  }
 ],
 "metadata": {
  "kernelspec": {
   "display_name": "Finance",
   "language": "python",
   "name": "python3"
  },
  "language_info": {
   "codemirror_mode": {
    "name": "ipython",
    "version": 3
   },
   "file_extension": ".py",
   "mimetype": "text/x-python",
   "name": "python",
   "nbconvert_exporter": "python",
   "pygments_lexer": "ipython3",
   "version": "3.9.16"
  },
  "orig_nbformat": 4
 },
 "nbformat": 4,
 "nbformat_minor": 2
}
